{
 "cells": [
  {
   "cell_type": "code",
   "execution_count": 19,
   "id": "0c9905a2",
   "metadata": {},
   "outputs": [],
   "source": [
    "import matplotlib\n",
    "import matplotlib.colors as cl\n",
    "import matplotlib.pyplot as plt\n",
    "%matplotlib inline\n",
    "\n",
    "import numpy as np\n",
    "import pandas as pd\n",
    "#import row64\n"
   ]
  },
  {
   "cell_type": "markdown",
   "id": "c53afdfb",
   "metadata": {},
   "source": [
    "## 1.\tCircle Bar Chart"
   ]
  },
  {
   "cell_type": "code",
   "execution_count": 2,
   "id": "3f628fe6",
   "metadata": {},
   "outputs": [],
   "source": [
    "def AddLabels(angles, values, labels, offset, ax):\n",
    "    for ang,val,label, in zip(angles, values, labels):\n",
    "        rot, align = GetLabelRot(ang, offset)\n",
    "        ax.text(x=ang,y=val+4,s=label,ha=align,va=\"center\",rotation=rot,rotation_mode=\"anchor\")\n",
    "\n",
    "def GetLabelRot(ang, offset):\n",
    "    rot = np.rad2deg(ang + offset)\n",
    "    if ang <= np.pi:\n",
    "        align = \"right\"\n",
    "        rot = rot + 180\n",
    "    else: align = \"left\"\n",
    "    return rot, align\n",
    "\n",
    "def CircularBarPlot(inDf,inValueI, inLabelI):\n",
    "    vals = inDf[inDf.columns[inValueI]]\n",
    "    vals = (vals/vals.max()) * 80\n",
    "    labels = inDf[inDf.columns[inLabelI]]\n",
    "    cWidth = 2 * np.pi / len(vals)\n",
    "    fig, ax = plt.subplots(figsize=(20,10),subplot_kw={\"projection\":\"polar\"})\n",
    "    ax.set_theta_offset(np.pi/2)\n",
    "    ax.set_ylim(-100, 100)\n",
    "    ax.set_frame_on(False)\n",
    "    ax.set_xticks([])\n",
    "    ax.set_yticks([])\n",
    "    angs = np.linspace(0, 2 * np.pi, len(inDf), endpoint=False)\n",
    "    ax.bar(angs,vals,width=cWidth,linewidth=2,color=\"#4393E5\",edgecolor=\"white\")\n",
    "    AddLabels(angs, vals, labels, np.pi/2, ax)\n"
   ]
  },
  {
   "cell_type": "code",
   "execution_count": 12,
   "id": "4443297b",
   "metadata": {},
   "outputs": [
    {
     "data": {
      "text/html": [
       "<div>\n",
       "<style scoped>\n",
       "    .dataframe tbody tr th:only-of-type {\n",
       "        vertical-align: middle;\n",
       "    }\n",
       "\n",
       "    .dataframe tbody tr th {\n",
       "        vertical-align: top;\n",
       "    }\n",
       "\n",
       "    .dataframe thead th {\n",
       "        text-align: right;\n",
       "    }\n",
       "</style>\n",
       "<table border=\"1\" class=\"dataframe\">\n",
       "  <thead>\n",
       "    <tr style=\"text-align: right;\">\n",
       "      <th></th>\n",
       "      <th>grossboxoffice</th>\n",
       "      <th>mpaa_rating</th>\n",
       "    </tr>\n",
       "    <tr>\n",
       "      <th>mpaa_rating</th>\n",
       "      <th></th>\n",
       "      <th></th>\n",
       "    </tr>\n",
       "  </thead>\n",
       "  <tbody>\n",
       "    <tr>\n",
       "      <th>G</th>\n",
       "      <td>3.056780e+09</td>\n",
       "      <td>G</td>\n",
       "    </tr>\n",
       "    <tr>\n",
       "      <th>PG</th>\n",
       "      <td>8.736396e+09</td>\n",
       "      <td>PG</td>\n",
       "    </tr>\n",
       "    <tr>\n",
       "      <th>PG-13</th>\n",
       "      <td>2.253373e+10</td>\n",
       "      <td>PG-13</td>\n",
       "    </tr>\n",
       "    <tr>\n",
       "      <th>R</th>\n",
       "      <td>9.660668e+09</td>\n",
       "      <td>R</td>\n",
       "    </tr>\n",
       "    <tr>\n",
       "      <th>UR</th>\n",
       "      <td>3.855544e+06</td>\n",
       "      <td>UR</td>\n",
       "    </tr>\n",
       "  </tbody>\n",
       "</table>\n",
       "</div>"
      ],
      "text/plain": [
       "             grossboxoffice mpaa_rating\n",
       "mpaa_rating                            \n",
       "G              3.056780e+09           G\n",
       "PG             8.736396e+09          PG\n",
       "PG-13          2.253373e+10       PG-13\n",
       "R              9.660668e+09           R\n",
       "UR             3.855544e+06          UR"
      ]
     },
     "execution_count": 12,
     "metadata": {},
     "output_type": "execute_result"
    }
   ],
   "source": [
    "dfIn=pd.read_csv(\"Movies.csv\")\n",
    "\n",
    "df1 = dfIn[['mpaa_rating','grossboxoffice']]\n",
    "df = df1.groupby(['mpaa_rating'])['grossboxoffice'].sum()\n",
    "df = pd.DataFrame(df)\n",
    "\n",
    "df['mpaa_rating'] = df.index\n",
    "df2 = df.copy()\n",
    "df2"
   ]
  },
  {
   "cell_type": "code",
   "execution_count": 13,
   "id": "c4873b8f",
   "metadata": {},
   "outputs": [
    {
     "data": {
      "image/png": "[encoded data removed]",
      "text/plain": [
       "<Figure size 1440x720 with 1 Axes>"
      ]
     },
     "metadata": {},
     "output_type": "display_data"
    }
   ],
   "source": [
    "CircularBarPlot(df2,0,1)"
   ]
  },
  {
   "cell_type": "markdown",
   "id": "20ccf400",
   "metadata": {},
   "source": [
    "## 2.Bar Chart"
   ]
  },
  {
   "cell_type": "code",
   "execution_count": 20,
   "id": "08e07740",
   "metadata": {},
   "outputs": [],
   "source": [
    "def GradientBars(inDf, inValueI, inNameI):\n",
    "    cList = ['#479DDD', '#83B3DF']\n",
    "    values = inDf[inDf.columns[inValueI]]\n",
    "    names = inDf[inDf.columns[inNameI]]\n",
    "    plt.rc('xtick', labelsize=8)\n",
    "    plt.rc('ytick', labelsize=7)\n",
    "    x_pos = np.arange(len(names))\n",
    "    plt.xticks(x_pos, names,horizontalalignment='right',rotation=45)\n",
    "    cRGB = [cl.to_rgb(col) for col in cList]\n",
    "    bars = plt.bar(x_pos, values, color=cList[0])\n",
    "    cmap = cl.LinearSegmentedColormap.from_list(\"\", cRGB)\n",
    "    ax = bars[0].axes\n",
    "    lim = ax.get_xlim()+ax.get_ylim()\n",
    "    for bar in bars:\n",
    "        bar.set_facecolor(\"none\")\n",
    "        x,y = bar.get_xy()\n",
    "        w, h = bar.get_width(), bar.get_height()\n",
    "        grad = np.atleast_2d(np.linspace(0,1*w/max(values),256))\n",
    "        ax.imshow(grad, extent=[x,x+w,y,y+h], aspect=\"auto\", zorder=0, cmap=cmap)\n",
    "    ax.axis(lim)\n",
    "    ax.get_yaxis().set_major_formatter(matplotlib.ticker.FuncFormatter(lambda x, p: format(int(x), ',')))\n"
   ]
  },
  {
   "cell_type": "code",
   "execution_count": 21,
   "id": "0e4a5298",
   "metadata": {},
   "outputs": [
    {
     "data": {
      "image/png": "[encoded data removed]",
      "text/plain": [
       "<Figure size 432x288 with 1 Axes>"
      ]
     },
     "metadata": {
      "needs_background": "light"
     },
     "output_type": "display_data"
    }
   ],
   "source": [
    "GradientBars(df2,0,1)"
   ]
  },
  {
   "cell_type": "markdown",
   "id": "1a8bf525",
   "metadata": {},
   "source": [
    "3"
   ]
  },
  {
   "cell_type": "code",
   "execution_count": 24,
   "id": "21c5a18b",
   "metadata": {},
   "outputs": [
    {
     "data": {
      "text/html": [
       "<div>\n",
       "<style scoped>\n",
       "    .dataframe tbody tr th:only-of-type {\n",
       "        vertical-align: middle;\n",
       "    }\n",
       "\n",
       "    .dataframe tbody tr th {\n",
       "        vertical-align: top;\n",
       "    }\n",
       "\n",
       "    .dataframe thead th {\n",
       "        text-align: right;\n",
       "    }\n",
       "</style>\n",
       "<table border=\"1\" class=\"dataframe\">\n",
       "  <thead>\n",
       "    <tr style=\"text-align: right;\">\n",
       "      <th></th>\n",
       "      <th>grossboxoffice</th>\n",
       "      <th>classgrossboxoffice</th>\n",
       "    </tr>\n",
       "    <tr>\n",
       "      <th>classgrossboxoffice</th>\n",
       "      <th></th>\n",
       "      <th></th>\n",
       "    </tr>\n",
       "  </thead>\n",
       "  <tbody>\n",
       "    <tr>\n",
       "      <th>1</th>\n",
       "      <td>9.701502e+06</td>\n",
       "      <td>1</td>\n",
       "    </tr>\n",
       "    <tr>\n",
       "      <th>2</th>\n",
       "      <td>5.875547e+07</td>\n",
       "      <td>2</td>\n",
       "    </tr>\n",
       "    <tr>\n",
       "      <th>3</th>\n",
       "      <td>3.259904e+08</td>\n",
       "      <td>3</td>\n",
       "    </tr>\n",
       "    <tr>\n",
       "      <th>4</th>\n",
       "      <td>8.793904e+08</td>\n",
       "      <td>4</td>\n",
       "    </tr>\n",
       "    <tr>\n",
       "      <th>5</th>\n",
       "      <td>1.780529e+09</td>\n",
       "      <td>5</td>\n",
       "    </tr>\n",
       "    <tr>\n",
       "      <th>6</th>\n",
       "      <td>2.877493e+09</td>\n",
       "      <td>6</td>\n",
       "    </tr>\n",
       "    <tr>\n",
       "      <th>7</th>\n",
       "      <td>4.573473e+09</td>\n",
       "      <td>7</td>\n",
       "    </tr>\n",
       "    <tr>\n",
       "      <th>8</th>\n",
       "      <td>8.104732e+09</td>\n",
       "      <td>8</td>\n",
       "    </tr>\n",
       "    <tr>\n",
       "      <th>9</th>\n",
       "      <td>2.538136e+10</td>\n",
       "      <td>9</td>\n",
       "    </tr>\n",
       "  </tbody>\n",
       "</table>\n",
       "</div>"
      ],
      "text/plain": [
       "                     grossboxoffice  classgrossboxoffice\n",
       "classgrossboxoffice                                     \n",
       "1                      9.701502e+06                    1\n",
       "2                      5.875547e+07                    2\n",
       "3                      3.259904e+08                    3\n",
       "4                      8.793904e+08                    4\n",
       "5                      1.780529e+09                    5\n",
       "6                      2.877493e+09                    6\n",
       "7                      4.573473e+09                    7\n",
       "8                      8.104732e+09                    8\n",
       "9                      2.538136e+10                    9"
      ]
     },
     "execution_count": 24,
     "metadata": {},
     "output_type": "execute_result"
    }
   ],
   "source": [
    "dfIn=pd.read_csv(\"Movies.csv\")\n",
    "\n",
    "df1 = dfIn[['classgrossboxoffice','grossboxoffice']]\n",
    "df = df1.groupby(['classgrossboxoffice'])['grossboxoffice'].sum()\n",
    "df = pd.DataFrame(df)\n",
    "\n",
    "df['classgrossboxoffice'] = df.index\n",
    "df2 = df.copy()\n",
    "df2"
   ]
  },
  {
   "cell_type": "code",
   "execution_count": 25,
   "id": "6b60ef79",
   "metadata": {},
   "outputs": [
    {
     "data": {
      "image/png": "[encoded data removed]",
      "text/plain": [
       "<Figure size 648x360 with 1 Axes>"
      ]
     },
     "metadata": {
      "needs_background": "light"
     },
     "output_type": "display_data"
    }
   ],
   "source": [
    "def LineScatter(inDf, inCol1, inCol2):\n",
    "    cName1 = inDf.columns[inCol1]\n",
    "    cName2 = inDf.columns[inCol2]\n",
    "    plt.figure(figsize=(9,5))\n",
    "    plt.margins(0, 0.03)\n",
    "    plt.plot(inDf[cName1], inDf[cName2],marker='o')\n",
    "\n",
    "LineScatter(df2,1,0)\n"
   ]
  },
  {
   "cell_type": "code",
   "execution_count": null,
   "id": "ec952a5c",
   "metadata": {},
   "outputs": [],
   "source": []
  }
 ],
 "metadata": {
  "kernelspec": {
   "display_name": "Python 3 (ipykernel)",
   "language": "python",
   "name": "python3"
  },
  "language_info": {
   "codemirror_mode": {
    "name": "ipython",
    "version": 3
   },
   "file_extension": ".py",
   "mimetype": "text/x-python",
   "name": "python",
   "nbconvert_exporter": "python",
   "pygments_lexer": "ipython3",
   "version": "3.9.7"
  }
 },
 "nbformat": 4,
 "nbformat_minor": 5
}
